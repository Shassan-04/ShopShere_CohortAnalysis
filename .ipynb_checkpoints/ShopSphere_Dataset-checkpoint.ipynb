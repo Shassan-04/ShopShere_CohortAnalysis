{
 "cells": [
  {
   "cell_type": "code",
   "execution_count": 17,
   "id": "8ec890d3-8cd2-475b-96d8-8ef78066a78e",
   "metadata": {},
   "outputs": [],
   "source": [
    "import numpy as np\n",
    "import pandas as pd\n",
    "import matplotlib.pyplot as plt\n",
    "import seaborn as sns"
   ]
  },
  {
   "cell_type": "code",
   "execution_count": 18,
   "id": "34673995-d8c1-4538-95eb-9488efa40fcc",
   "metadata": {},
   "outputs": [],
   "source": [
    "#Load datasets\n",
    "df = pd.read_csv(\"ShopSphere_Dataset.csv\")"
   ]
  },
  {
   "cell_type": "code",
   "execution_count": 21,
   "id": "47c64d5e-b379-4441-8486-85f964a03b15",
   "metadata": {},
   "outputs": [
    {
     "name": "stdout",
     "output_type": "stream",
     "text": [
      "<class 'pandas.core.frame.DataFrame'>\n",
      "RangeIndex: 385314 entries, 0 to 385313\n",
      "Data columns (total 8 columns):\n",
      " #   Column       Non-Null Count   Dtype  \n",
      "---  ------       --------------   -----  \n",
      " 0   InvoiceNo    385314 non-null  int64  \n",
      " 1   InvoiceDate  385314 non-null  object \n",
      " 2   CustomerID   385314 non-null  int64  \n",
      " 3   StockCode    385314 non-null  int64  \n",
      " 4   Description  385314 non-null  object \n",
      " 5   Quantity     385314 non-null  int64  \n",
      " 6   UnitPrice    385314 non-null  float64\n",
      " 7   Country      385314 non-null  object \n",
      "dtypes: float64(1), int64(4), object(3)\n",
      "memory usage: 23.5+ MB\n"
     ]
    }
   ],
   "source": [
    "#Checking the dataframe info\n",
    "df.info()"
   ]
  },
  {
   "cell_type": "code",
   "execution_count": 22,
   "id": "bbd3099d-5b32-40bd-bd62-6d4c978b0caa",
   "metadata": {},
   "outputs": [
    {
     "data": {
      "text/html": [
       "<div>\n",
       "<style scoped>\n",
       "    .dataframe tbody tr th:only-of-type {\n",
       "        vertical-align: middle;\n",
       "    }\n",
       "\n",
       "    .dataframe tbody tr th {\n",
       "        vertical-align: top;\n",
       "    }\n",
       "\n",
       "    .dataframe thead th {\n",
       "        text-align: right;\n",
       "    }\n",
       "</style>\n",
       "<table border=\"1\" class=\"dataframe\">\n",
       "  <thead>\n",
       "    <tr style=\"text-align: right;\">\n",
       "      <th></th>\n",
       "      <th>InvoiceNo</th>\n",
       "      <th>InvoiceDate</th>\n",
       "      <th>CustomerID</th>\n",
       "      <th>StockCode</th>\n",
       "      <th>Description</th>\n",
       "      <th>Quantity</th>\n",
       "      <th>UnitPrice</th>\n",
       "      <th>Country</th>\n",
       "    </tr>\n",
       "  </thead>\n",
       "  <tbody>\n",
       "    <tr>\n",
       "      <th>0</th>\n",
       "      <td>400000</td>\n",
       "      <td>2024-01-21 03:01:47</td>\n",
       "      <td>10000</td>\n",
       "      <td>40565</td>\n",
       "      <td>Groceries</td>\n",
       "      <td>31</td>\n",
       "      <td>5.56</td>\n",
       "      <td>United Kingdom</td>\n",
       "    </tr>\n",
       "    <tr>\n",
       "      <th>1</th>\n",
       "      <td>400000</td>\n",
       "      <td>2024-01-21 03:01:47</td>\n",
       "      <td>10000</td>\n",
       "      <td>40048</td>\n",
       "      <td>Fashion</td>\n",
       "      <td>14</td>\n",
       "      <td>34.86</td>\n",
       "      <td>United Kingdom</td>\n",
       "    </tr>\n",
       "    <tr>\n",
       "      <th>2</th>\n",
       "      <td>400000</td>\n",
       "      <td>2024-01-21 03:01:47</td>\n",
       "      <td>10000</td>\n",
       "      <td>40149</td>\n",
       "      <td>Electronics</td>\n",
       "      <td>48</td>\n",
       "      <td>149.66</td>\n",
       "      <td>United States</td>\n",
       "    </tr>\n",
       "    <tr>\n",
       "      <th>3</th>\n",
       "      <td>400000</td>\n",
       "      <td>2024-01-21 03:01:47</td>\n",
       "      <td>10000</td>\n",
       "      <td>40514</td>\n",
       "      <td>Sports &amp; Outdoors</td>\n",
       "      <td>7</td>\n",
       "      <td>38.30</td>\n",
       "      <td>United States</td>\n",
       "    </tr>\n",
       "    <tr>\n",
       "      <th>4</th>\n",
       "      <td>400000</td>\n",
       "      <td>2024-01-21 03:01:47</td>\n",
       "      <td>10000</td>\n",
       "      <td>40607</td>\n",
       "      <td>Groceries</td>\n",
       "      <td>4</td>\n",
       "      <td>7.66</td>\n",
       "      <td>United States</td>\n",
       "    </tr>\n",
       "  </tbody>\n",
       "</table>\n",
       "</div>"
      ],
      "text/plain": [
       "   InvoiceNo          InvoiceDate  CustomerID  StockCode        Description  \\\n",
       "0     400000  2024-01-21 03:01:47       10000      40565          Groceries   \n",
       "1     400000  2024-01-21 03:01:47       10000      40048            Fashion   \n",
       "2     400000  2024-01-21 03:01:47       10000      40149        Electronics   \n",
       "3     400000  2024-01-21 03:01:47       10000      40514  Sports & Outdoors   \n",
       "4     400000  2024-01-21 03:01:47       10000      40607          Groceries   \n",
       "\n",
       "   Quantity  UnitPrice         Country  \n",
       "0        31       5.56  United Kingdom  \n",
       "1        14      34.86  United Kingdom  \n",
       "2        48     149.66   United States  \n",
       "3         7      38.30   United States  \n",
       "4         4       7.66   United States  "
      ]
     },
     "execution_count": 22,
     "metadata": {},
     "output_type": "execute_result"
    }
   ],
   "source": [
    "#Checking the dataframe top 5\n",
    "df.head(n=5)"
   ]
  },
  {
   "cell_type": "code",
   "execution_count": 23,
   "id": "b96a3939-020b-4003-8d8c-0a057de5c944",
   "metadata": {},
   "outputs": [
    {
     "data": {
      "text/plain": [
       "InvoiceNo      0\n",
       "InvoiceDate    0\n",
       "CustomerID     0\n",
       "StockCode      0\n",
       "Description    0\n",
       "Quantity       0\n",
       "UnitPrice      0\n",
       "Country        0\n",
       "dtype: int64"
      ]
     },
     "execution_count": 23,
     "metadata": {},
     "output_type": "execute_result"
    }
   ],
   "source": [
    "#To check if there was a missing value\n",
    "df.isnull().sum()"
   ]
  },
  {
   "cell_type": "code",
   "execution_count": null,
   "id": "c1273ddd-6562-4d12-9bee-16c78850bb5e",
   "metadata": {},
   "outputs": [],
   "source": [
    "#To change the customerID data type from integer to object\n",
    "\n",
    "df[\"CustomerID\"] = "
   ]
  }
 ],
 "metadata": {
  "kernelspec": {
   "display_name": "Python [conda env:base] *",
   "language": "python",
   "name": "conda-base-py"
  },
  "language_info": {
   "codemirror_mode": {
    "name": "ipython",
    "version": 3
   },
   "file_extension": ".py",
   "mimetype": "text/x-python",
   "name": "python",
   "nbconvert_exporter": "python",
   "pygments_lexer": "ipython3",
   "version": "3.12.7"
  }
 },
 "nbformat": 4,
 "nbformat_minor": 5
}
